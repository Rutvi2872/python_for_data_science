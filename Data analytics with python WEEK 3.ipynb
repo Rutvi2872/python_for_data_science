{
 "cells": [
  {
   "cell_type": "code",
   "execution_count": 1,
   "id": "c8970c63",
   "metadata": {},
   "outputs": [],
   "source": [
    "import scipy\n",
    "import numpy as np"
   ]
  },
  {
   "cell_type": "code",
   "execution_count": 2,
   "id": "47b770ba",
   "metadata": {},
   "outputs": [],
   "source": [
    "from scipy.stats import binom"
   ]
  },
  {
   "cell_type": "markdown",
   "id": "344e7d38",
   "metadata": {},
   "source": [
    "A Gallup survey found that 65% of all financial consumers were very satisfied with their primary financial institution. Suppose that 25 financial consumers are sampled and if the Gallup survey result still holds true today, what is the probability that exactly 19 are very satisfied with their primary financial institution?"
   ]
  },
  {
   "cell_type": "code",
   "execution_count": 3,
   "id": "c4518abc",
   "metadata": {},
   "outputs": [
    {
     "name": "stdout",
     "output_type": "stream",
     "text": [
      "0.090777998593228\n"
     ]
    }
   ],
   "source": [
    "print(binom.pmf(k=19, n=25, p=0.65))"
   ]
  },
  {
   "cell_type": "markdown",
   "id": "7ba63662",
   "metadata": {},
   "source": [
    "According to the U.S. Census Bureau,approximately 6% of all workers in jackson,Mississippi, are unemployed. In conducting a\n",
    "random telephone survey in Jackson, what isthe probability of getting two or fewerunemployed workers in a sample of 20?"
   ]
  },
  {
   "cell_type": "code",
   "execution_count": 6,
   "id": "07ed62db",
   "metadata": {},
   "outputs": [
    {
     "data": {
      "text/plain": [
       "0.8850275957378549"
      ]
     },
     "execution_count": 6,
     "metadata": {},
     "output_type": "execute_result"
    }
   ],
   "source": [
    "binom.cdf(2,20,0.06)"
   ]
  },
  {
   "cell_type": "markdown",
   "id": "fa418ee2",
   "metadata": {},
   "source": [
    "Solve the binomial probability for n=20, p=40, x=10"
   ]
  },
  {
   "cell_type": "code",
   "execution_count": 32,
   "id": "a704a078",
   "metadata": {},
   "outputs": [
    {
     "name": "stdout",
     "output_type": "stream",
     "text": [
      "nan\n"
     ]
    }
   ],
   "source": [
    "print(binom.pmf(k=10, n=20, p=40))"
   ]
  },
  {
   "cell_type": "markdown",
   "id": "e50a39a5",
   "metadata": {},
   "source": [
    "from scipy.stats import poisson"
   ]
  },
  {
   "cell_type": "markdown",
   "id": "54964807",
   "metadata": {},
   "source": [
    "Bank customers arrive randomly on week days afternoon at an average of 3.2 customers every 4 minutes. What is the probability of having more than 7 customers in a 4 minute interval on a week day afternoon?"
   ]
  },
  {
   "cell_type": "code",
   "execution_count": 42,
   "id": "85a83223",
   "metadata": {},
   "outputs": [],
   "source": [
    "prob = poisson.cdf(7,3.2)"
   ]
  },
  {
   "cell_type": "code",
   "execution_count": 43,
   "id": "20d09355",
   "metadata": {},
   "outputs": [
    {
     "data": {
      "text/plain": [
       "0.01682984174895752"
      ]
     },
     "execution_count": 43,
     "metadata": {},
     "output_type": "execute_result"
    }
   ],
   "source": [
    "prob_more_than_7 = 1-prob\n",
    "prob_more_than_7"
   ]
  },
  {
   "cell_type": "markdown",
   "id": "c48a9ef3",
   "metadata": {},
   "source": [
    "Bank customers arrive randomly on week days afternoon at an average of 3.2 customers every 4 minutes. What is the probability of having exactly 10 customers during a 8 minute interval?"
   ]
  },
  {
   "cell_type": "code",
   "execution_count": 46,
   "id": "dc675138",
   "metadata": {},
   "outputs": [
    {
     "data": {
      "text/plain": [
       "0.052790043854115495"
      ]
     },
     "execution_count": 46,
     "metadata": {},
     "output_type": "execute_result"
    }
   ],
   "source": [
    "poisson.pmf(10,6.4)"
   ]
  },
  {
   "cell_type": "markdown",
   "id": "5787f3e8",
   "metadata": {},
   "source": [
    "Uniform distribution"
   ]
  },
  {
   "cell_type": "markdown",
   "id": "3f859d7f",
   "metadata": {},
   "source": [
    "Suppose the amount of time it takes to assemble a plastic module ranges from 27 to 39 seconds and that assembly times are uniformly distributed. What is the probability that a given assembly will take between 30 and 35 seconds?"
   ]
  },
  {
   "cell_type": "code",
   "execution_count": 48,
   "id": "579479ac",
   "metadata": {},
   "outputs": [
    {
     "data": {
      "text/plain": [
       "array([27, 28, 29, 30, 31, 32, 33, 34, 35, 36, 37, 38, 39])"
      ]
     },
     "execution_count": 48,
     "metadata": {},
     "output_type": "execute_result"
    }
   ],
   "source": [
    "U = np.arange(27,40,1)\n",
    "U"
   ]
  },
  {
   "cell_type": "code",
   "execution_count": 50,
   "id": "764d9b87",
   "metadata": {},
   "outputs": [
    {
     "data": {
      "text/plain": [
       "33.0"
      ]
     },
     "execution_count": 50,
     "metadata": {},
     "output_type": "execute_result"
    }
   ],
   "source": [
    "from scipy.stats import uniform\n",
    "uniform.mean(loc=27, scale=12)"
   ]
  },
  {
   "cell_type": "code",
   "execution_count": 51,
   "id": "df300741",
   "metadata": {},
   "outputs": [
    {
     "data": {
      "text/plain": [
       "array([0.25      , 0.33333333, 0.41666667, 0.5       , 0.58333333,\n",
       "       0.66666667])"
      ]
     },
     "execution_count": 51,
     "metadata": {},
     "output_type": "execute_result"
    }
   ],
   "source": [
    "uniform.cdf(np.arange(30,36,1), loc=27, scale=12)"
   ]
  },
  {
   "cell_type": "code",
   "execution_count": 53,
   "id": "cf009f1b",
   "metadata": {},
   "outputs": [
    {
     "data": {
      "text/plain": [
       "0.41666667"
      ]
     },
     "execution_count": 53,
     "metadata": {},
     "output_type": "execute_result"
    }
   ],
   "source": [
    "prob = 0.66666667 - 0.25\n",
    "prob"
   ]
  },
  {
   "cell_type": "code",
   "execution_count": 57,
   "id": "d1c2fe89",
   "metadata": {},
   "outputs": [],
   "source": [
    "from scipy.stats import norm\n",
    "val,m,s = 68,65.5,2.5"
   ]
  },
  {
   "cell_type": "code",
   "execution_count": 58,
   "id": "bca40c9f",
   "metadata": {},
   "outputs": [
    {
     "name": "stdout",
     "output_type": "stream",
     "text": [
      "0.8413447460685429\n"
     ]
    }
   ],
   "source": [
    "print(norm.cdf(val,m,s))"
   ]
  },
  {
   "cell_type": "markdown",
   "id": "21adfca5",
   "metadata": {},
   "source": [
    "cdf(x>val1)"
   ]
  },
  {
   "cell_type": "code",
   "execution_count": 59,
   "id": "5a5a4390",
   "metadata": {},
   "outputs": [
    {
     "name": "stdout",
     "output_type": "stream",
     "text": [
      "0.15865525393145707\n"
     ]
    }
   ],
   "source": [
    "print(1-norm.cdf(val,m,s))"
   ]
  },
  {
   "cell_type": "code",
   "execution_count": 60,
   "id": "5cce7c87",
   "metadata": {},
   "outputs": [
    {
     "name": "stdout",
     "output_type": "stream",
     "text": [
      "0.6826894921370859\n"
     ]
    }
   ],
   "source": [
    "print(norm.cdf(val,m,s)-norm.cdf(63,m,s))"
   ]
  },
  {
   "cell_type": "code",
   "execution_count": 61,
   "id": "acb317db",
   "metadata": {},
   "outputs": [
    {
     "data": {
      "text/plain": [
       "1.6448536269514722"
      ]
     },
     "execution_count": 61,
     "metadata": {},
     "output_type": "execute_result"
    }
   ],
   "source": [
    "norm.ppf(0.95)"
   ]
  },
  {
   "cell_type": "markdown",
   "id": "4aa3ff2d",
   "metadata": {},
   "source": [
    "Hypergeomatric"
   ]
  },
  {
   "cell_type": "markdown",
   "id": "7c577927",
   "metadata": {},
   "source": [
    "Assume that 18 major computer manufacturing companies operate in the United States and that 12 are located in Silicon Valley of California. If three of these companies are randomly selected from the list; what is the probability that none of the selected companies is located in Silicon Valley of California? "
   ]
  },
  {
   "cell_type": "code",
   "execution_count": 63,
   "id": "c3394ed5",
   "metadata": {},
   "outputs": [
    {
     "data": {
      "text/plain": [
       "0.9754901960784306"
      ]
     },
     "execution_count": 63,
     "metadata": {},
     "output_type": "execute_result"
    }
   ],
   "source": [
    "from scipy.stats import hypergeom\n",
    "pval = hypergeom.sf(0,18,3,12)      #hypergeom.sf(x-1,N,n,A), sf = 1-cdf\n",
    "pval"
   ]
  },
  {
   "cell_type": "markdown",
   "id": "9eeb5a1a",
   "metadata": {},
   "source": [
    "A western city has 18 police officers eligible for promotion. Eleven of the 18 are Hispanic. Suppose only 5 of the police officers are chosen for promotion and that 1 is Hispanic. If the officers chosen for promotion had been selected by chance alone, what is the probability that 1 or fewer of the 5 promoted officers would have been Hispanic? What might this result indicate?"
   ]
  },
  {
   "cell_type": "code",
   "execution_count": 66,
   "id": "7f5c18ae",
   "metadata": {},
   "outputs": [
    {
     "data": {
      "text/plain": [
       "0.04738562091503275"
      ]
     },
     "execution_count": 66,
     "metadata": {},
     "output_type": "execute_result"
    }
   ],
   "source": [
    "pval2 = hypergeom.cdf(1,18,5,11)\n",
    "pval2"
   ]
  },
  {
   "cell_type": "markdown",
   "id": "ef5af600",
   "metadata": {},
   "source": [
    "Exponential Distribution"
   ]
  },
  {
   "cell_type": "markdown",
   "id": "2ccbcb31",
   "metadata": {},
   "source": [
    " A manufacturing firm has been involved in statistical quality control for several years. As part of the production process, parts are randomly selected and tested. From the records of these tests, it has been established that a defective part occurs in a pattern that is Poisson distributed on the average of 1.38 defects every 20 minutes during production runs. Use this information to determine the probability that less than 15min will elapse between any two defects."
   ]
  },
  {
   "cell_type": "code",
   "execution_count": null,
   "id": "8969f17a",
   "metadata": {},
   "outputs": [],
   "source": []
  }
 ],
 "metadata": {
  "kernelspec": {
   "display_name": "Python 3 (ipykernel)",
   "language": "python",
   "name": "python3"
  },
  "language_info": {
   "codemirror_mode": {
    "name": "ipython",
    "version": 3
   },
   "file_extension": ".py",
   "mimetype": "text/x-python",
   "name": "python",
   "nbconvert_exporter": "python",
   "pygments_lexer": "ipython3",
   "version": "3.9.12"
  }
 },
 "nbformat": 4,
 "nbformat_minor": 5
}
