{
 "cells": [
  {
   "cell_type": "code",
   "execution_count": 58,
   "id": "01d8d562",
   "metadata": {},
   "outputs": [],
   "source": [
    "from scipy import stats\n",
    "import numpy as np\n",
    "import pandas as pd\n",
    "from statsmodels.stats.proportion import proportions_ztest"
   ]
  },
  {
   "cell_type": "code",
   "execution_count": 59,
   "id": "4cfcf80c",
   "metadata": {},
   "outputs": [
    {
     "data": {
      "text/plain": [
       "0.9750021048517795"
      ]
     },
     "execution_count": 59,
     "metadata": {},
     "output_type": "execute_result"
    }
   ],
   "source": [
    "stats.norm.cdf(1.96)"
   ]
  },
  {
   "cell_type": "code",
   "execution_count": 60,
   "id": "c327a9ab",
   "metadata": {},
   "outputs": [
    {
     "data": {
      "text/plain": [
       "0.07214503696589378"
      ]
     },
     "execution_count": 60,
     "metadata": {},
     "output_type": "execute_result"
    }
   ],
   "source": [
    "stats.norm.cdf(-1.46)   # finding p value"
   ]
  },
  {
   "cell_type": "code",
   "execution_count": 61,
   "id": "841d60df",
   "metadata": {},
   "outputs": [
    {
     "data": {
      "text/plain": [
       "-1.2815515655446004"
      ]
     },
     "execution_count": 61,
     "metadata": {},
     "output_type": "execute_result"
    }
   ],
   "source": [
    "stats.norm.ppf(0.1)     # finding z value"
   ]
  },
  {
   "cell_type": "code",
   "execution_count": 63,
   "id": "82d8aa52",
   "metadata": {},
   "outputs": [
    {
     "data": {
      "text/plain": [
       "0.1378565720320355"
      ]
     },
     "execution_count": 63,
     "metadata": {},
     "output_type": "execute_result"
    }
   ],
   "source": [
    "1-stats.norm.cdf(1.09)"
   ]
  },
  {
   "cell_type": "code",
   "execution_count": 64,
   "id": "b667caed",
   "metadata": {},
   "outputs": [
    {
     "data": {
      "text/plain": [
       "-1.6448536269514729"
      ]
     },
     "execution_count": 64,
     "metadata": {},
     "output_type": "execute_result"
    }
   ],
   "source": [
    "stats.norm.ppf(0.05)"
   ]
  },
  {
   "cell_type": "code",
   "execution_count": 65,
   "id": "8f55cfb0",
   "metadata": {},
   "outputs": [
    {
     "data": {
      "text/plain": [
       "9.85"
      ]
     },
     "execution_count": 65,
     "metadata": {},
     "output_type": "execute_result"
    }
   ],
   "source": [
    "x = [13,8,10,10,8,9,10,11,6,8,12,11,11,12,10,12,7,10,11,8]\n",
    "(13+8+10+10+8+9+10+11+6+8+12+11+11+12+10+12+7+10+11+8)/20"
   ]
  },
  {
   "cell_type": "code",
   "execution_count": 66,
   "id": "331e7f77",
   "metadata": {},
   "outputs": [
    {
     "data": {
      "text/plain": [
       "Ttest_1sampResult(statistic=-0.35843385854878496, pvalue=0.7239703579964252)"
      ]
     },
     "execution_count": 66,
     "metadata": {},
     "output_type": "execute_result"
    }
   ],
   "source": [
    "stats.ttest_1samp(x,10) # population mean "
   ]
  },
  {
   "cell_type": "code",
   "execution_count": 67,
   "id": "467166c0",
   "metadata": {},
   "outputs": [
    {
     "data": {
      "text/plain": [
       "0.3619851789982126"
      ]
     },
     "execution_count": 67,
     "metadata": {},
     "output_type": "execute_result"
    }
   ],
   "source": [
    "0.7239703579964252/2  # >= 0.5"
   ]
  },
  {
   "cell_type": "code",
   "execution_count": 68,
   "id": "84362dbd",
   "metadata": {},
   "outputs": [
    {
     "data": {
      "text/plain": [
       "0.36199764140607527"
      ]
     },
     "execution_count": 68,
     "metadata": {},
     "output_type": "execute_result"
    }
   ],
   "source": [
    "stats.t.cdf(-0.3584,19)"
   ]
  },
  {
   "cell_type": "code",
   "execution_count": 69,
   "id": "9ff403f8",
   "metadata": {},
   "outputs": [
    {
     "data": {
      "text/plain": [
       "-1.7291328115213678"
      ]
     },
     "execution_count": 69,
     "metadata": {},
     "output_type": "execute_result"
    }
   ],
   "source": [
    "stats.t.ppf(0.05,19)"
   ]
  },
  {
   "cell_type": "markdown",
   "id": "810af14b",
   "metadata": {},
   "source": [
    "For new york's week the city traffic police claimed that 50% of the accidents would be caused by drunk driving \n",
    "A sample of 120 accidents showed that 67 acciddent caused by drunk driving\n",
    "police claimed that with =0.05"
   ]
  },
  {
   "cell_type": "code",
   "execution_count": 70,
   "id": "766150dd",
   "metadata": {},
   "outputs": [],
   "source": [
    "count = 67\n",
    "p = 0.5\n",
    "samplesize = 120"
   ]
  },
  {
   "cell_type": "code",
   "execution_count": 71,
   "id": "59d5e910",
   "metadata": {},
   "outputs": [
    {
     "data": {
      "text/plain": [
       "(1.286806739751111, 0.1981616572238455)"
      ]
     },
     "execution_count": 71,
     "metadata": {},
     "output_type": "execute_result"
    }
   ],
   "source": [
    "proportions_ztest(count,samplesize,p)"
   ]
  },
  {
   "cell_type": "code",
   "execution_count": 5,
   "id": "cf35e08c",
   "metadata": {},
   "outputs": [],
   "source": [
    "def z_value(x,mu,SEM):\n",
    "    z=(x-mu)/SEM\n",
    "    if(z<0):\n",
    "        alfa = stats.norm.cdf(z)\n",
    "    else:\n",
    "        alfa = 1 - stats.norm.cdf(z)\n",
    "    print(alfa)"
   ]
  },
  {
   "cell_type": "code",
   "execution_count": null,
   "id": "b8c6c9c5",
   "metadata": {},
   "outputs": [],
   "source": []
  }
 ],
 "metadata": {
  "kernelspec": {
   "display_name": "Python 3 (ipykernel)",
   "language": "python",
   "name": "python3"
  },
  "language_info": {
   "codemirror_mode": {
    "name": "ipython",
    "version": 3
   },
   "file_extension": ".py",
   "mimetype": "text/x-python",
   "name": "python",
   "nbconvert_exporter": "python",
   "pygments_lexer": "ipython3",
   "version": "3.9.12"
  }
 },
 "nbformat": 4,
 "nbformat_minor": 5
}
