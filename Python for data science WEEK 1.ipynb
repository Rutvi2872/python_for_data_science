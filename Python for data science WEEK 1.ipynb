{
 "cells": [
  {
   "cell_type": "code",
   "execution_count": 5,
   "id": "6a7a11f4",
   "metadata": {},
   "outputs": [
    {
     "name": "stdout",
     "output_type": "stream",
     "text": [
      "goodday\n"
     ]
    }
   ],
   "source": [
    "print(\"good\", end=\"\")\n",
    "print(\"day\")\n"
   ]
  },
  {
   "cell_type": "raw",
   "id": "d2ebc11d",
   "metadata": {},
   "source": [
    "num1 = '100'\n",
    "num2 = '200'\n",
    "print(num1 + num2)"
   ]
  },
  {
   "cell_type": "code",
   "execution_count": 4,
   "id": "b1a1f330",
   "metadata": {},
   "outputs": [
    {
     "name": "stdout",
     "output_type": "stream",
     "text": [
      "40\n"
     ]
    }
   ],
   "source": [
    "result = 12-4 * (16//2**4) + 32\n",
    "print(result)"
   ]
  },
  {
   "cell_type": "code",
   "execution_count": 3,
   "id": "36d00174",
   "metadata": {},
   "outputs": [
    {
     "name": "stdout",
     "output_type": "stream",
     "text": [
      "5\n"
     ]
    }
   ],
   "source": [
    "print(5%11)"
   ]
  },
  {
   "cell_type": "code",
   "execution_count": 2,
   "id": "bdc64c6b",
   "metadata": {},
   "outputs": [
    {
     "name": "stdout",
     "output_type": "stream",
     "text": [
      "[[1 2 3]\n",
      " [4 5 6]]\n"
     ]
    }
   ],
   "source": [
    "import numpy as np\n",
    "c = np.arange(start = 1, stop = 7).reshape(2,3)\n",
    "print(c)"
   ]
  },
  {
   "cell_type": "code",
   "execution_count": 1,
   "id": "9afb3bcb",
   "metadata": {},
   "outputs": [],
   "source": [
    "t1 = (1,2,'tuple',4)\n",
    "t2 = (5,6,7)"
   ]
  },
  {
   "cell_type": "code",
   "execution_count": 2,
   "id": "40a75333",
   "metadata": {},
   "outputs": [
    {
     "ename": "AttributeError",
     "evalue": "'tuple' object has no attribute 'append'",
     "output_type": "error",
     "traceback": [
      "\u001b[1;31m---------------------------------------------------------------------------\u001b[0m",
      "\u001b[1;31mAttributeError\u001b[0m                            Traceback (most recent call last)",
      "Input \u001b[1;32mIn [2]\u001b[0m, in \u001b[0;36m<cell line: 1>\u001b[1;34m()\u001b[0m\n\u001b[1;32m----> 1\u001b[0m \u001b[43mt1\u001b[49m\u001b[38;5;241;43m.\u001b[39;49m\u001b[43mappend\u001b[49m(\u001b[38;5;241m5\u001b[39m)\n",
      "\u001b[1;31mAttributeError\u001b[0m: 'tuple' object has no attribute 'append'"
     ]
    }
   ],
   "source": [
    "t1.append(5)"
   ]
  },
  {
   "cell_type": "code",
   "execution_count": null,
   "id": "9e896277",
   "metadata": {},
   "outputs": [],
   "source": [
    "x = t2[t1[1]]"
   ]
  },
  {
   "cell_type": "code",
   "execution_count": 9,
   "id": "b68c7430",
   "metadata": {},
   "outputs": [],
   "source": [
    "t3 = (list(t1),list(t2))"
   ]
  },
  {
   "cell_type": "code",
   "execution_count": 10,
   "id": "528564c8",
   "metadata": {},
   "outputs": [],
   "source": [
    "d1 = {1:\"python\",2:[1,2,3]}"
   ]
  },
  {
   "cell_type": "code",
   "execution_count": 5,
   "id": "80559ae9",
   "metadata": {},
   "outputs": [
    {
     "ename": "NameError",
     "evalue": "name 'd1' is not defined",
     "output_type": "error",
     "traceback": [
      "\u001b[1;31m---------------------------------------------------------------------------\u001b[0m",
      "\u001b[1;31mNameError\u001b[0m                                 Traceback (most recent call last)",
      "Input \u001b[1;32mIn [5]\u001b[0m, in \u001b[0;36m<cell line: 1>\u001b[1;34m()\u001b[0m\n\u001b[1;32m----> 1\u001b[0m \u001b[43md1\u001b[49m[\u001b[38;5;241m2\u001b[39m]\u001b[38;5;241m.\u001b[39mappend(\u001b[38;5;241m4\u001b[39m)\n",
      "\u001b[1;31mNameError\u001b[0m: name 'd1' is not defined"
     ]
    }
   ],
   "source": [
    "d1[2].append(4)"
   ]
  },
  {
   "cell_type": "code",
   "execution_count": 12,
   "id": "d856d586",
   "metadata": {},
   "outputs": [
    {
     "name": "stdout",
     "output_type": "stream",
     "text": [
      "{1: 'python', 2: [1, 2, 3, 4]}\n"
     ]
    }
   ],
   "source": [
    "print(d1)"
   ]
  },
  {
   "cell_type": "code",
   "execution_count": 13,
   "id": "65816844",
   "metadata": {},
   "outputs": [
    {
     "ename": "KeyError",
     "evalue": "0",
     "output_type": "error",
     "traceback": [
      "\u001b[1;31m---------------------------------------------------------------------------\u001b[0m",
      "\u001b[1;31mKeyError\u001b[0m                                  Traceback (most recent call last)",
      "Input \u001b[1;32mIn [13]\u001b[0m, in \u001b[0;36m<cell line: 1>\u001b[1;34m()\u001b[0m\n\u001b[1;32m----> 1\u001b[0m x\u001b[38;5;241m=\u001b[39m\u001b[43md1\u001b[49m\u001b[43m[\u001b[49m\u001b[38;5;241;43m0\u001b[39;49m\u001b[43m]\u001b[49m\n",
      "\u001b[1;31mKeyError\u001b[0m: 0"
     ]
    }
   ],
   "source": [
    "x=d1[0]"
   ]
  },
  {
   "cell_type": "code",
   "execution_count": 14,
   "id": "aa209998",
   "metadata": {},
   "outputs": [],
   "source": [
    "d1[\"one\"]=1"
   ]
  },
  {
   "cell_type": "code",
   "execution_count": 15,
   "id": "a0c20231",
   "metadata": {},
   "outputs": [
    {
     "name": "stdout",
     "output_type": "stream",
     "text": [
      "{1: 'python', 2: [1, 2, 3, 4], 'one': 1}\n"
     ]
    }
   ],
   "source": [
    "print(d1)"
   ]
  },
  {
   "cell_type": "code",
   "execution_count": 18,
   "id": "b398f748",
   "metadata": {},
   "outputs": [
    {
     "name": "stdout",
     "output_type": "stream",
     "text": [
      "{1: 'python', 2: [1, 2, 3, 4], 'one': 2}\n"
     ]
    }
   ],
   "source": [
    "d1.update({'one':2})\n",
    "print(d1)"
   ]
  },
  {
   "cell_type": "code",
   "execution_count": 23,
   "id": "06658bac",
   "metadata": {},
   "outputs": [
    {
     "name": "stdout",
     "output_type": "stream",
     "text": [
      "{1, 2, 4}\n"
     ]
    }
   ],
   "source": [
    "S1 = {1, 2, 3}\n",
    "S2 = {5, 6, 3}\n",
    "S1.add(4)\n",
    "S2.add(\"4\")\n",
    "print(S1-S2)"
   ]
  },
  {
   "cell_type": "code",
   "execution_count": 38,
   "id": "98eb6da0",
   "metadata": {},
   "outputs": [
    {
     "name": "stdout",
     "output_type": "stream",
     "text": [
      "Hello d3\n"
     ]
    }
   ],
   "source": [
    "S1 = 'Hello' \n",
    "S2 = 'World3'\n",
    "print( S1[0:] + ' ' + S2[-2:])"
   ]
  },
  {
   "cell_type": "code",
   "execution_count": 2,
   "id": "2815709b",
   "metadata": {},
   "outputs": [
    {
     "data": {
      "text/plain": [
       "array([16, 24, 16])"
      ]
     },
     "execution_count": 2,
     "metadata": {},
     "output_type": "execute_result"
    }
   ],
   "source": [
    "import numpy as np\n",
    "arr = np.array([[1, 9, 10], [3, 7, 6], [12, 8, 0]])\n",
    "np.sum(arr, axis = 0)"
   ]
  },
  {
   "cell_type": "code",
   "execution_count": 3,
   "id": "77ed14f3",
   "metadata": {},
   "outputs": [
    {
     "data": {
      "text/plain": [
       "56"
      ]
     },
     "execution_count": 3,
     "metadata": {},
     "output_type": "execute_result"
    }
   ],
   "source": [
    " np.sum([[1, 9, 10], [3, 7, 6], [12, 8, 0]])"
   ]
  },
  {
   "cell_type": "code",
   "execution_count": 4,
   "id": "05abf1e5",
   "metadata": {},
   "outputs": [
    {
     "data": {
      "text/plain": [
       "array([20, 16, 20])"
      ]
     },
     "execution_count": 4,
     "metadata": {},
     "output_type": "execute_result"
    }
   ],
   "source": [
    " np.sum(arr, axis = 1)"
   ]
  },
  {
   "cell_type": "code",
   "execution_count": 8,
   "id": "c7f59813",
   "metadata": {},
   "outputs": [
    {
     "name": "stdout",
     "output_type": "stream",
     "text": [
      "[[ 5  1  9 10]\n",
      " [ 2  2  5  4]\n",
      " [ 1  3  9  8]\n",
      " [ 2  4  6  8]]\n"
     ]
    }
   ],
   "source": [
    "mat = np.matrix('5, 9, 10; 2, 5, 4; 1, 9, 8; 2, 6, 8')\n",
    "mat1 = np.matrix('1, 2, 3, 4')\n",
    "mat2 = np.insert(mat, 1, mat1, axis= 1)\n",
    "print(mat2)"
   ]
  },
  {
   "cell_type": "code",
   "execution_count": 10,
   "id": "b1afd853",
   "metadata": {},
   "outputs": [
    {
     "name": "stdout",
     "output_type": "stream",
     "text": [
      "{'name': 'Jane', 'age': 26, 'courses': ['Math', 'Statistics'], 'phone': '123-456'}\n"
     ]
    }
   ],
   "source": [
    "student = {'name': 'Jane', 'age': 25, 'courses': ['Math', 'Statistics']}\n",
    "student['phone'] = '123-456'\n",
    "student.update({'age' : 26})\n",
    "print(student)"
   ]
  },
  {
   "cell_type": "code",
   "execution_count": 11,
   "id": "0f54ee64",
   "metadata": {},
   "outputs": [
    {
     "name": "stdout",
     "output_type": "stream",
     "text": [
      "{'name': 'Jane', 'age': 26, 'courses': ['Math', 'Statistics'], 'phone': '123-456'}\n"
     ]
    }
   ],
   "source": [
    "student.update({'age' : 26, 'phone': '123-456'})\n",
    "print(student)"
   ]
  },
  {
   "cell_type": "code",
   "execution_count": 12,
   "id": "74b6b51d",
   "metadata": {},
   "outputs": [
    {
     "name": "stdout",
     "output_type": "stream",
     "text": [
      "16\n"
     ]
    }
   ],
   "source": [
    "c = np.arange(start = 1, stop = 20, step = 3)\n",
    "print(c[5])"
   ]
  },
  {
   "cell_type": "code",
   "execution_count": 1,
   "id": "47c318c7",
   "metadata": {},
   "outputs": [
    {
     "name": "stdout",
     "output_type": "stream",
     "text": [
      "3 1 2\n"
     ]
    }
   ],
   "source": [
    "print( '$100 $200 $300'.count('$'), '$100 $200 $300'.count('$', 5, 10), '$100 $200 $300'.count('$', 5) )"
   ]
  },
  {
   "cell_type": "code",
   "execution_count": 2,
   "id": "b6e9b9e2",
   "metadata": {},
   "outputs": [
    {
     "name": "stdout",
     "output_type": "stream",
     "text": [
      "40\n"
     ]
    }
   ],
   "source": [
    "print(12-4*(16//2**4)+32)"
   ]
  },
  {
   "cell_type": "code",
   "execution_count": 8,
   "id": "b415052d",
   "metadata": {},
   "outputs": [
    {
     "data": {
      "text/plain": [
       "1"
      ]
     },
     "execution_count": 8,
     "metadata": {},
     "output_type": "execute_result"
    }
   ],
   "source": [
    "a = [1,2,3,4,5]\n",
    "a.count(2)"
   ]
  },
  {
   "cell_type": "code",
   "execution_count": 1,
   "id": "1136fc7d",
   "metadata": {},
   "outputs": [
    {
     "ename": "TypeError",
     "evalue": "unhashable type: 'list'",
     "output_type": "error",
     "traceback": [
      "\u001b[1;31m---------------------------------------------------------------------------\u001b[0m",
      "\u001b[1;31mTypeError\u001b[0m                                 Traceback (most recent call last)",
      "Input \u001b[1;32mIn [1]\u001b[0m, in \u001b[0;36m<cell line: 1>\u001b[1;34m()\u001b[0m\n\u001b[1;32m----> 1\u001b[0m a\u001b[38;5;241m=\u001b[39m{\u001b[38;5;241m1\u001b[39m,\u001b[38;5;241m2\u001b[39m,[\u001b[38;5;241m4\u001b[39m,\u001b[38;5;241m5\u001b[39m,\u001b[38;5;241m6\u001b[39m]}\n\u001b[0;32m      2\u001b[0m \u001b[38;5;28mprint\u001b[39m(a)\n",
      "\u001b[1;31mTypeError\u001b[0m: unhashable type: 'list'"
     ]
    }
   ],
   "source": [
    "a={1,2,[4,5,6]}\n",
    "print(a)"
   ]
  }
 ],
 "metadata": {
  "kernelspec": {
   "display_name": "Python 3 (ipykernel)",
   "language": "python",
   "name": "python3"
  },
  "language_info": {
   "codemirror_mode": {
    "name": "ipython",
    "version": 3
   },
   "file_extension": ".py",
   "mimetype": "text/x-python",
   "name": "python",
   "nbconvert_exporter": "python",
   "pygments_lexer": "ipython3",
   "version": "3.9.12"
  }
 },
 "nbformat": 4,
 "nbformat_minor": 5
}
